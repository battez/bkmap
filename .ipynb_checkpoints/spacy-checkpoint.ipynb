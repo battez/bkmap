{
 "cells": [
  {
   "cell_type": "code",
   "execution_count": 1,
   "metadata": {},
   "outputs": [],
   "source": [
    "# Uncomment below to use the medium size model, for production (possibly?)\n",
    "#!python -m spacy download en_core_web_md\n",
    "# nlp = en_core_web_md.load()\n",
    "# import en_core_web_md\n",
    "import en_core_web_sm\n",
    "# load en_core_web_sm of English for vocabluary, syntax & entities\n",
    "nlp = en_core_web_sm.load()"
   ]
  },
  {
   "cell_type": "code",
   "execution_count": 2,
   "metadata": {},
   "outputs": [
    {
     "name": "stdout",
     "output_type": "stream",
     "text": [
      "total tokens 541226\n"
     ]
    }
   ],
   "source": [
    "import os\n",
    "import pandas as pd\n",
    "from collections import Counter\n",
    "from spacy import explain\n",
    "\n",
    "# load the text or book in spacy.tokens.doc.Doc object\n",
    "doc = open(os.getcwd() +'/datasets/secretagent.txt').read()\n",
    "print('total tokens', len(doc))\n",
    "\n",
    "# use small sample\n",
    "sentences = nlp(doc[:40000])\n",
    "\n",
    "entities=[(i, i.label_, i.label) for i in sentences.ents]\n"
   ]
  },
  {
   "cell_type": "code",
   "execution_count": 3,
   "metadata": {},
   "outputs": [
    {
     "name": "stdout",
     "output_type": "stream",
     "text": [
      "PERSON People, including fictional\n",
      "WORK_OF_ART Titles of books, songs, etc.\n",
      "ORG Companies, agencies, institutions, etc.\n",
      "DATE Absolute or relative dates or periods\n",
      "MONEY Monetary values, including unit\n",
      "ORDINAL \"first\", \"second\", etc.\n",
      "LANGUAGE Any named language\n",
      "GPE Countries, cities, states\n",
      "CARDINAL Numerals that do not fall under another type\n",
      "PRODUCT Objects, vehicles, foods, etc. (not services)\n",
      "NORP Nationalities or religious or political groups\n",
      "TIME Times smaller than a day\n",
      "LOC Non-GPE locations, mountain ranges, bodies of water\n",
      "FAC Buildings, airports, highways, bridges, etc.\n",
      "LAW Named documents made into laws.\n",
      "EVENT Named hurricanes, battles, wars, sports events, etc.\n",
      "QUANTITY Measurements, as of weight or distance\n"
     ]
    }
   ],
   "source": [
    "# very crude list of possible placenames\n",
    "places = list(map(lambda x:x[0], filter(lambda x: (x[1] in ['GPE','PERSON']), entities)))\n",
    "\n",
    "## normalise these strings\n",
    "places = list(set(map(lambda x:x.orth_.strip().lower(), places)))\n",
    "\n",
    "labels = [x.label_ for x in sentences.ents]\n",
    "\n",
    "# useful to refer to for the various labels of entities\n",
    "for x in Counter(labels).keys():\n",
    "    print(x, explain(x))"
   ]
  },
  {
   "cell_type": "code",
   "execution_count": 24,
   "metadata": {},
   "outputs": [
    {
     "name": "stdout",
     "output_type": "stream",
     "text": [
      "not found:  stevie\n",
      "found:  bronze\n",
      "not found:  ill\n",
      "found:  embassy\n",
      "found:  murder\n",
      "Error: geocode failed on input an m. p. with message Service timed out\n",
      "found:  adolf\n",
      "found:  greenwich park\n",
      "not found:  mr vladimir’s\n",
      "not found:  inspector heat\n",
      "found:  somewhere\n",
      "found:  states\n",
      "not found:  mrs verloc\n",
      "not found:  winnie verloc\n",
      "not found:  moser\n",
      "found:  karl\n",
      "found:  london\n",
      "not found:  nevertheless\n",
      "not found:  this karl yundt\n",
      "found:  france\n",
      "not found:  drunks\n",
      "found:  england\n",
      "not found:  caligula\n",
      "found:  run\n",
      "found:  girls\n",
      "not found:  went\n",
      "Error: geocode failed on input street lodge with message Service timed out\n",
      "found:  brussels\n",
      "found:  dover\n",
      "found:  joseph conrad\n"
     ]
    },
    {
     "ename": "KeyboardInterrupt",
     "evalue": "",
     "output_type": "error",
     "traceback": [
      "\u001b[0;31m---------------------------------------------------------------------------\u001b[0m",
      "\u001b[0;31mKeyboardInterrupt\u001b[0m                         Traceback (most recent call last)",
      "\u001b[0;32m<ipython-input-24-1684fe1286e5>\u001b[0m in \u001b[0;36m<module>\u001b[0;34m\u001b[0m\n\u001b[1;32m     24\u001b[0m     \u001b[0;32mif\u001b[0m \u001b[0;34m(\u001b[0m \u001b[0;34m(\u001b[0m\u001b[0midx\u001b[0m \u001b[0;34m>\u001b[0m \u001b[0;36m0\u001b[0m\u001b[0;34m)\u001b[0m \u001b[0;32mand\u001b[0m \u001b[0;34m(\u001b[0m\u001b[0;36m0\u001b[0m \u001b[0;34m==\u001b[0m \u001b[0;34m(\u001b[0m\u001b[0midx\u001b[0m \u001b[0;34m%\u001b[0m \u001b[0;36m10\u001b[0m\u001b[0;34m)\u001b[0m\u001b[0;34m)\u001b[0m \u001b[0;34m)\u001b[0m\u001b[0;34m:\u001b[0m\u001b[0;34m\u001b[0m\u001b[0;34m\u001b[0m\u001b[0m\n\u001b[1;32m     25\u001b[0m         \u001b[0;31m# delay\u001b[0m\u001b[0;34m\u001b[0m\u001b[0;34m\u001b[0m\u001b[0;34m\u001b[0m\u001b[0m\n\u001b[0;32m---> 26\u001b[0;31m         \u001b[0mtime\u001b[0m\u001b[0;34m.\u001b[0m\u001b[0msleep\u001b[0m\u001b[0;34m(\u001b[0m\u001b[0;36m12\u001b[0m\u001b[0;34m)\u001b[0m\u001b[0;34m\u001b[0m\u001b[0;34m\u001b[0m\u001b[0m\n\u001b[0m\u001b[1;32m     27\u001b[0m \u001b[0;34m\u001b[0m\u001b[0m\n\u001b[1;32m     28\u001b[0m     \u001b[0;32mtry\u001b[0m\u001b[0;34m:\u001b[0m\u001b[0;34m\u001b[0m\u001b[0;34m\u001b[0m\u001b[0m\n",
      "\u001b[0;31mKeyboardInterrupt\u001b[0m: "
     ]
    }
   ],
   "source": [
    "# lookup places and plot if they exist. Keep within bounding box of europe somehow.\n",
    "from geopy.geocoders import Nominatim\n",
    "from geopy.exc import GeocoderTimedOut\n",
    "import time\n",
    "from pprint import pprint\n",
    "'''\n",
    "rubric:\n",
    "if an individual search takes longer than n seconds,\n",
    "it’s not really a city name, and the script will thus \n",
    "weed out non-names from the final map.\n",
    "'''\n",
    "n_wait=0.5\n",
    "geolocator = Nominatim(timeout=n_wait, user_agent=\"book_location_resolver\") # OSM service\n",
    " \n",
    "lat_lon = []\n",
    "valid = []\n",
    "\n",
    "bounds_uk = [-10.8544921875, 49.82380908513249,2.021484375,59.478568831926395] # UK\n",
    "bounds_ukse = [-10.8544921875, 49.82380908513249,2.021484375,59.478568831926395] # UK\n",
    "bounds_g_london = [(51.28, -0.489),(51.686, 0.236)]\n",
    "\n",
    "for idx, original_text in enumerate(places): \n",
    "    # do not hammer the service:\n",
    "    if ( (idx > 0) and (0 == (idx % 10)) ): \n",
    "        # delay\n",
    "        time.sleep(12)\n",
    "    \n",
    "    try:\n",
    "        location = geolocator.geocode(original_text, bounded=True, viewbox=bounds_g_london, country_codes='gb')        \n",
    "        \n",
    "        if location:\n",
    "            print('found: ',original_text)\n",
    "            lat_lon.append(location)\n",
    "                \n",
    "            # we add this as a separate column to the DF as useful to verify the results of geocoding\n",
    "            valid.append(original_text) \n",
    "        else:\n",
    "            print('not found: ',original_text)\n",
    "    except GeocoderTimedOut as e:\n",
    "        print(\"Error: geocode failed on input %s with message %s\"% (original_text, e))\n",
    "\n",
    "# Use a dataframe to store retrieved results:\n",
    "df = pd.DataFrame(lat_lon, columns=['Place Name', 'Coordinates'])\n",
    "df['Original Text'] = valid # add a column of our valid original text queries for the geocoder\n",
    "file_name = 'retrieved_locations.csv'\n",
    "df.to_csv(file_name, sep='\\t', encoding='utf-8', index=False)\n",
    "df.head()"
   ]
  },
  {
   "cell_type": "code",
   "execution_count": 5,
   "metadata": {},
   "outputs": [
    {
     "data": {
      "text/html": [
       "<div style=\"width:100%;\"><div style=\"position:relative;width:100%;height:0;padding-bottom:60%;\"><iframe src=\"data:text/html;charset=utf-8;base64,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\" style=\"position:absolute;width:100%;height:100%;left:0;top:0;border:none !important;\" allowfullscreen webkitallowfullscreen mozallowfullscreen></iframe></div></div>"
      ],
      "text/plain": [
       "<folium.folium.Map at 0x7cc9a4ac1ad0>"
      ]
     },
     "execution_count": 5,
     "metadata": {},
     "output_type": "execute_result"
    }
   ],
   "source": [
    "import folium\n",
    "\n",
    "def generateBaseMap(default_location=[51.5, 0], default_zoom_start=10):\n",
    "    base_map = folium.Map(location=default_location, control_scale=True, zoom_start=default_zoom_start)\n",
    "    return base_map\n",
    "\n",
    "def add_marker(place, coordinates, text=\"  \"):\n",
    "    ''' add a location marker to a folium map \n",
    "    '''\n",
    "    folium.Marker(location=list(coordinates), popup=place, icon=folium.DivIcon(\n",
    "        icon_size=(150,36),\n",
    "        icon_anchor=(7,20),\n",
    "        html='<div style=\"font-size: 12pt; color : #222;text-decoration:underline\">'+ text +'</div>',\n",
    "        )).add_to(base_map)\n",
    "    \n",
    "base_map = generateBaseMap()\n",
    "\n",
    "result = [add_marker(x, y, z) for x, y, z in zip(df['Place Name'], df['Coordinates'], df['Original Text'])]\n",
    "base_map # display the map"
   ]
  }
 ],
 "metadata": {
  "kernelspec": {
   "display_name": "Python 3",
   "language": "python",
   "name": "python3"
  },
  "language_info": {
   "codemirror_mode": {
    "name": "ipython",
    "version": 3
   },
   "file_extension": ".py",
   "mimetype": "text/x-python",
   "name": "python",
   "nbconvert_exporter": "python",
   "pygments_lexer": "ipython3",
   "version": "3.7.4"
  }
 },
 "nbformat": 4,
 "nbformat_minor": 4
}
