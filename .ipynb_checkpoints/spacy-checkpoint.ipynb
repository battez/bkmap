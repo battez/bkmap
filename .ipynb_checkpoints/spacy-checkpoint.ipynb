{
 "cells": [
  {
   "cell_type": "code",
   "execution_count": 19,
   "metadata": {},
   "outputs": [],
   "source": [
    "# Uncomment below to use this  model, for production (possibly?)\n",
    "#!python -m spacy download xx_ent_wiki_sm\n",
    "# nlp = en_core_web_md.load()\n",
    "# import en_core_web_md\n",
    "import en_core_web_sm\n",
    "nlp = en_core_web_sm.load()\n",
    "# import xx_ent_wiki_sm\n",
    "# load en_core_web_sm of English for vocabluary, syntax & entities\n",
    "# load in a simpler wikipedia based named entity model \n",
    "#nlp = xx_ent_wiki_sm.load()"
   ]
  },
  {
   "cell_type": "code",
   "execution_count": 20,
   "metadata": {},
   "outputs": [
    {
     "name": "stdout",
     "output_type": "stream",
     "text": [
      "total tokens 460041\n"
     ]
    }
   ],
   "source": [
    "import os\n",
    "import pandas as pd\n",
    "from collections import Counter\n",
    "from spacy import explain\n",
    "\n",
    "# load the text or book in spacy.tokens.doc.Doc object\n",
    "files = ['secretagent', 'innocence-father-brown']\n",
    "doc = open(os.getcwd() +'/datasets/' + files[1] + '.txt').read()\n",
    "print('total tokens', len(doc))\n",
    "\n",
    "# use small sample\n",
    "sentences = nlp(doc[:40000])\n",
    "\n",
    "entities=[(i, i.label_, i.label) for i in sentences.ents]\n"
   ]
  },
  {
   "cell_type": "code",
   "execution_count": 21,
   "metadata": {},
   "outputs": [
    {
     "name": "stdout",
     "output_type": "stream",
     "text": [
      "PERSON People, including fictional\n",
      "ORG Companies, agencies, institutions, etc.\n",
      "DATE Absolute or relative dates or periods\n",
      "MONEY Monetary values, including unit\n",
      "LANGUAGE Any named language\n",
      "GPE Countries, cities, states\n",
      "WORK_OF_ART Titles of books, songs, etc.\n",
      "NORP Nationalities or religious or political groups\n",
      "LOC Non-GPE locations, mountain ranges, bodies of water\n",
      "CARDINAL Numerals that do not fall under another type\n",
      "TIME Times smaller than a day\n",
      "FAC Buildings, airports, highways, bridges, etc.\n",
      "QUANTITY Measurements, as of weight or distance\n",
      "ORDINAL \"first\", \"second\", etc.\n",
      "EVENT Named hurricanes, battles, wars, sports events, etc.\n"
     ]
    }
   ],
   "source": [
    "# very crude list of possible placenames \n",
    "# for Ontosnotes based model use some of these types: 'GPE','PERSON', PER, LOC, ORG and MISC\n",
    "places = list(map(lambda x:x[0], filter(lambda x: (x[1] in ['GPE', 'LOC', 'PERSON']), entities)))\n",
    "\n",
    "## normalise these strings\n",
    "places = list(set(map(lambda x:x.orth_.strip().lower(), places)))\n",
    "\n",
    "labels = [x.label_ for x in sentences.ents]\n",
    "\n",
    "# useful to refer to for the various labels of entities\n",
    "for x in Counter(labels).keys():\n",
    "    print(x, explain(x))"
   ]
  },
  {
   "cell_type": "code",
   "execution_count": 22,
   "metadata": {},
   "outputs": [
    {
     "name": "stdout",
     "output_type": "stream",
     "text": [
      "found:  soho\n",
      "not found:  aristide valentin\n",
      "found:  scotland\n",
      "found:  europe\n",
      "found:  paris\n",
      "found:  the north sea\n",
      "found:  tottenham\n",
      "found:  elizabethan\n",
      "found:  london\n",
      "not found:  judith boss\n",
      "not found:  utf-8\n",
      "found:  england\n",
      "not found:  ﻿project gutenberg\n",
      "not found:  m. valentin\n",
      "found:  nelson\n",
      "found:  the north pole\n",
      "not found:  valentin\n",
      "found:  hampstead heath\n",
      "found:  hampstead\n",
      "not found:  harwich\n",
      "found:  pacific\n",
      "found:  g. k. chesterton\n",
      "not found:  the hammer of god\n",
      "not found:  statuesque\n",
      "not found:  pale grey jacket\n",
      "found:  brown\n",
      "not found:  thou\n",
      "found:  brussels\n",
      "found:  essex\n",
      "found:  earth\n",
      "found:  williams\n",
      "not found:  turnip\n",
      "found:  essex village\n",
      "found:  north london\n",
      "found:  holland\n",
      "not found:  flambeau\n",
      "found:  victoria\n",
      "found:  williamson\n",
      "found:  france\n",
      "found:  hartlepool\n"
     ]
    },
    {
     "data": {
      "text/html": [
       "<div>\n",
       "<style scoped>\n",
       "    .dataframe tbody tr th:only-of-type {\n",
       "        vertical-align: middle;\n",
       "    }\n",
       "\n",
       "    .dataframe tbody tr th {\n",
       "        vertical-align: top;\n",
       "    }\n",
       "\n",
       "    .dataframe thead th {\n",
       "        text-align: right;\n",
       "    }\n",
       "</style>\n",
       "<table border=\"1\" class=\"dataframe\">\n",
       "  <thead>\n",
       "    <tr style=\"text-align: right;\">\n",
       "      <th></th>\n",
       "      <th>Place Name</th>\n",
       "      <th>Coordinates</th>\n",
       "      <th>Original Text</th>\n",
       "    </tr>\n",
       "  </thead>\n",
       "  <tbody>\n",
       "    <tr>\n",
       "      <td>0</td>\n",
       "      <td>Soho, City of Westminster, London, Greater Lon...</td>\n",
       "      <td>(51.5131628, -0.1311754)</td>\n",
       "      <td>soho</td>\n",
       "    </tr>\n",
       "    <tr>\n",
       "      <td>1</td>\n",
       "      <td>Royal Bank of Scotland, Feltham, London Boroug...</td>\n",
       "      <td>(51.44027345, -0.404133119376528)</td>\n",
       "      <td>scotland</td>\n",
       "    </tr>\n",
       "    <tr>\n",
       "      <td>2</td>\n",
       "      <td>Europe Road, Royal Borough of Greenwich, Londo...</td>\n",
       "      <td>(51.4932696, 0.0553015)</td>\n",
       "      <td>europe</td>\n",
       "    </tr>\n",
       "    <tr>\n",
       "      <td>3</td>\n",
       "      <td>Paris, 17, Brixton Station Road, Stockwell, Lo...</td>\n",
       "      <td>(51.46339705, -0.113663055448795)</td>\n",
       "      <td>paris</td>\n",
       "    </tr>\n",
       "    <tr>\n",
       "      <td>4</td>\n",
       "      <td>Caterham Sea Cadets &amp; Royal Marines Cadets, Ca...</td>\n",
       "      <td>(51.294297, -0.10579591772903)</td>\n",
       "      <td>the north sea</td>\n",
       "    </tr>\n",
       "  </tbody>\n",
       "</table>\n",
       "</div>"
      ],
      "text/plain": [
       "                                          Place Name  \\\n",
       "0  Soho, City of Westminster, London, Greater Lon...   \n",
       "1  Royal Bank of Scotland, Feltham, London Boroug...   \n",
       "2  Europe Road, Royal Borough of Greenwich, Londo...   \n",
       "3  Paris, 17, Brixton Station Road, Stockwell, Lo...   \n",
       "4  Caterham Sea Cadets & Royal Marines Cadets, Ca...   \n",
       "\n",
       "                         Coordinates  Original Text  \n",
       "0           (51.5131628, -0.1311754)           soho  \n",
       "1  (51.44027345, -0.404133119376528)       scotland  \n",
       "2            (51.4932696, 0.0553015)         europe  \n",
       "3  (51.46339705, -0.113663055448795)          paris  \n",
       "4     (51.294297, -0.10579591772903)  the north sea  "
      ]
     },
     "execution_count": 22,
     "metadata": {},
     "output_type": "execute_result"
    }
   ],
   "source": [
    "# lookup places and plot if they exist. Keep within bounding box of europe somehow.\n",
    "from geopy.geocoders import Nominatim\n",
    "from geopy.exc import GeocoderTimedOut\n",
    "import time\n",
    "from pprint import pprint\n",
    "'''\n",
    "rubric:\n",
    "if an individual search takes longer than n seconds,\n",
    "it’s not really a city name, and the script will thus \n",
    "weed out non-names from the final map. \n",
    "\n",
    "Idea to improve this search, is to get results first without bounds, then\n",
    "discard any of those using python comparison of bounds. \n",
    "\n",
    "Then get results using API bounds parameter and then compare returned results with prior results.\n",
    "\n",
    "Keep only those where the result was the same. \n",
    "\n",
    "'''\n",
    "n_wait=4\n",
    "geolocator = Nominatim(timeout=n_wait, user_agent=\"book_location_resolver\") # OSM service\n",
    " \n",
    "lat_lon = []\n",
    "valid = []\n",
    "\n",
    "bounds_uk = [-10.8544921875, 49.82380908513249,2.021484375,59.478568831926395] # UK\n",
    "bounds_ukse = [-10.8544921875, 49.82380908513249,2.021484375,59.478568831926395] # UK\n",
    "bounds_g_london = [(51.28, -0.489),(51.686, 0.236)]\n",
    "\n",
    "for idx, original_text in enumerate(places): \n",
    "    # do not hammer the service:\n",
    "    if ( (idx > 0) and (0 == (idx % 10)) ): \n",
    "        # delay\n",
    "        time.sleep(12)\n",
    "    \n",
    "    try:\n",
    "        location = geolocator.geocode(original_text, bounded=True, viewbox=bounds_g_london, country_codes='gb')        \n",
    "        \n",
    "        if location:\n",
    "            print('found: ',original_text)\n",
    "            lat_lon.append(location)\n",
    "                \n",
    "            # we add this as a separate column to the DF as useful to verify the results of geocoding\n",
    "            valid.append(original_text) \n",
    "        else:\n",
    "            print('not found: ',original_text)\n",
    "    except GeocoderTimedOut as e:\n",
    "        print(\"Error: geocode failed on input %s with message %s\"% (original_text, e))\n",
    "\n",
    "# Use a dataframe to store retrieved results:\n",
    "df = pd.DataFrame(lat_lon, columns=['Place Name', 'Coordinates'])\n",
    "df['Original Text'] = valid # add a column of our valid original text queries for the geocoder\n",
    "file_name = 'retrieved_locations.csv'\n",
    "df.to_csv(file_name, sep='\\t', encoding='utf-8', index=False)\n",
    "df.head()"
   ]
  },
  {
   "cell_type": "code",
   "execution_count": 23,
   "metadata": {},
   "outputs": [
    {
     "data": {
      "text/html": [
       "<div style=\"width:100%;\"><div style=\"position:relative;width:100%;height:0;padding-bottom:60%;\"><iframe src=\"data:text/html;charset=utf-8;base64,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\" style=\"position:absolute;width:100%;height:100%;left:0;top:0;border:none !important;\" allowfullscreen webkitallowfullscreen mozallowfullscreen></iframe></div></div>"
      ],
      "text/plain": [
       "<folium.folium.Map at 0x7c5852d7fc10>"
      ]
     },
     "execution_count": 23,
     "metadata": {},
     "output_type": "execute_result"
    }
   ],
   "source": [
    "import folium\n",
    "\n",
    "def generateBaseMap(default_location=[51.5, 0], default_zoom_start=10):\n",
    "    base_map = folium.Map(location=default_location, control_scale=True, zoom_start=default_zoom_start)\n",
    "    return base_map\n",
    "\n",
    "def add_marker(place, coordinates, text=\"  \"):\n",
    "    ''' add a location marker to a folium map \n",
    "    '''\n",
    "    folium.Marker(location=list(coordinates), popup=place, icon=folium.DivIcon(\n",
    "        icon_size=(150,36),\n",
    "        icon_anchor=(7,20),\n",
    "        html='<div style=\"font-size: 12pt; color : #222;text-decoration:underline\">'+ text +'</div>',\n",
    "        )).add_to(base_map)\n",
    "    \n",
    "base_map = generateBaseMap()\n",
    "\n",
    "result = [add_marker(x, y, z) for x, y, z in zip(df['Place Name'], df['Coordinates'], df['Original Text'])]\n",
    "base_map.fit_bounds(base_map.get_bounds())\n",
    "base_map # display the map"
   ]
  }
 ],
 "metadata": {
  "kernelspec": {
   "display_name": "Python 3",
   "language": "python",
   "name": "python3"
  },
  "language_info": {
   "codemirror_mode": {
    "name": "ipython",
    "version": 3
   },
   "file_extension": ".py",
   "mimetype": "text/x-python",
   "name": "python",
   "nbconvert_exporter": "python",
   "pygments_lexer": "ipython3",
   "version": "3.7.4"
  }
 },
 "nbformat": 4,
 "nbformat_minor": 4
}
