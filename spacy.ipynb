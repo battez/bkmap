{
 "cells": [
  {
   "cell_type": "code",
   "execution_count": 3,
   "metadata": {},
   "outputs": [],
   "source": [
    "# Uncomment below to use the medium size model, for production (possibly?)\n",
    "#!python -m spacy download en_core_web_md\n",
    "# nlp = en_core_web_md.load()\n",
    "# import en_core_web_md\n",
    "import en_core_web_sm\n",
    "# load en_core_web_sm of English for vocabluary, syntax & entities\n",
    "nlp = en_core_web_sm.load()"
   ]
  },
  {
   "cell_type": "code",
   "execution_count": 4,
   "metadata": {},
   "outputs": [
    {
     "name": "stdout",
     "output_type": "stream",
     "text": [
      "total tokens 541226\n"
     ]
    }
   ],
   "source": [
    "import os\n",
    "import pandas as pd\n",
    "from collections import Counter\n",
    "from spacy import explain\n",
    "\n",
    "# load the text or book in spacy.tokens.doc.Doc object\n",
    "doc = open(os.getcwd() +'/datasets/secretagent.txt').read()\n",
    "print('total tokens', len(doc))\n",
    "\n",
    "# use small sample\n",
    "sentences = nlp(doc[:100000])\n",
    "\n",
    "entities=[(i, i.label_, i.label) for i in sentences.ents]\n"
   ]
  },
  {
   "cell_type": "code",
   "execution_count": 5,
   "metadata": {},
   "outputs": [
    {
     "name": "stdout",
     "output_type": "stream",
     "text": [
      "PERSON People, including fictional\n",
      "WORK_OF_ART Titles of books, songs, etc.\n",
      "ORG Companies, agencies, institutions, etc.\n",
      "DATE Absolute or relative dates or periods\n",
      "MONEY Monetary values, including unit\n",
      "ORDINAL \"first\", \"second\", etc.\n",
      "LANGUAGE Any named language\n",
      "GPE Countries, cities, states\n",
      "CARDINAL Numerals that do not fall under another type\n",
      "PRODUCT Objects, vehicles, foods, etc. (not services)\n",
      "NORP Nationalities or religious or political groups\n",
      "TIME Times smaller than a day\n",
      "LOC Non-GPE locations, mountain ranges, bodies of water\n",
      "FAC Buildings, airports, highways, bridges, etc.\n",
      "LAW Named documents made into laws.\n",
      "EVENT Named hurricanes, battles, wars, sports events, etc.\n",
      "QUANTITY Measurements, as of weight or distance\n"
     ]
    }
   ],
   "source": [
    "# very crude list of possible placenames\n",
    "places = list(map(lambda x:x[0], filter(lambda x: (x[1] in ['GPE','PERSON']), entities)))\n",
    "\n",
    "## normalise these strings\n",
    "places = list(set(map(lambda x:x.orth_.strip().lower(), places)))\n",
    "\n",
    "labels = [x.label_ for x in sentences.ents]\n",
    "\n",
    "# useful to refer to for the various labels of entities\n",
    "for x in Counter(labels).keys():\n",
    "    print(x, explain(x))"
   ]
  },
  {
   "cell_type": "code",
   "execution_count": 6,
   "metadata": {},
   "outputs": [],
   "source": [
    "# lookup places and plot if they exist. Keep within bounding box of europe somehow.\n",
    "from geopy.geocoders import Nominatim\n",
    "from geopy.exc import GeocoderTimedOut\n",
    "import time\n",
    "from pprint import pprint\n",
    "'''\n",
    "rubric:\n",
    "if an individual search takes longer than n seconds,\n",
    "it’s not really a city name, and the script will thus \n",
    "weed out non-names from the final map.\n",
    "'''\n",
    "n_wait=2\n",
    "geolocator = Nominatim(timeout=n_wait, user_agent=\"book_location_resolver\") # OSM service\n",
    " \n",
    "lat_lon = []\n",
    "valid = []\n",
    "\n",
    "bounds_uk = [-10.8544921875, 49.82380908513249,2.021484375,59.478568831926395] # UK\n",
    "bounds_ukse = [-10.8544921875, 49.82380908513249,2.021484375,59.478568831926395] # UK\n",
    "bounds_g_london = [-0.489,51.28,0.236,51.686]\n",
    "for idx, original_text in enumerate(places[:2000]): \n",
    "    # do not hammer the service:\n",
    "    if ( (idx > 0) and (0 == (idx % 10)) ): \n",
    "        # delay\n",
    "        time.sleep(12)\n",
    "    \n",
    "    try:\n",
    "        # TODO: can in fact in API use viewbox and bounded=1, viewbox=<x1>,<y1>,<x2>,<y2>\n",
    "        location = geolocator.geocode(original_text)        \n",
    "        \n",
    "        if location:\n",
    "            if (bounds_g_london[1] < location.latitude < bounds_g_london[3]) and (bounds_g_london[0] < location.longitude < bounds_g_london[2]): \n",
    "                \n",
    "                lat_lon.append(location)\n",
    "                \n",
    "                # we add this as a separate column to the DF as useful to verify the results of geocoding\n",
    "                valid.append(original_text)  \n",
    "    except GeocoderTimedOut as e:\n",
    "        print(\"Error: geocode failed on input %s with message %s\"% (original_text, e))\n",
    "\n",
    "df = pd.DataFrame(lat_lon, columns=['Place Name', 'Coordinates'])\n",
    "df['Original Text'] = valid # add a column of our valid original text queries for the geocoder\n",
    "file_name = 'retrieved_locations.csv'\n",
    "df.to_csv(file_name, sep='\\t', encoding='utf-8', index=False)"
   ]
  },
  {
   "cell_type": "code",
   "execution_count": 7,
   "metadata": {},
   "outputs": [
    {
     "data": {
      "text/html": [
       "<div style=\"width:100%;\"><div style=\"position:relative;width:100%;height:0;padding-bottom:60%;\"><iframe src=\"data:text/html;charset=utf-8;base64,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\" style=\"position:absolute;width:100%;height:100%;left:0;top:0;border:none !important;\" allowfullscreen webkitallowfullscreen mozallowfullscreen></iframe></div></div>"
      ],
      "text/plain": [
       "<folium.folium.Map at 0x7a0fcd9bb690>"
      ]
     },
     "execution_count": 7,
     "metadata": {},
     "output_type": "execute_result"
    }
   ],
   "source": [
    "import folium\n",
    "\n",
    "def generateBaseMap(default_location=[51.5, 0], default_zoom_start=10):\n",
    "    base_map = folium.Map(location=default_location, control_scale=True, zoom_start=default_zoom_start)\n",
    "    return base_map\n",
    "\n",
    "def add_marker(place, coordinates, text=\"  \"):\n",
    "    ''' add a location marker to a folium map \n",
    "    '''\n",
    "    folium.Marker(location=list(coordinates), popup=place, icon=folium.DivIcon(\n",
    "        icon_size=(150,36),\n",
    "        icon_anchor=(7,20),\n",
    "        html='<div style=\"font-size: 12pt; color : #222;text-decoration:underline\">'+ text +'</div>',\n",
    "        )).add_to(base_map)\n",
    "    \n",
    "base_map = generateBaseMap()\n",
    "\n",
    "result = [add_marker(x, y, z) for x, y, z in zip(df['Place Name'], df['Coordinates'], df['Original Text'])]\n",
    "base_map # display the map"
   ]
  }
 ],
 "metadata": {
  "kernelspec": {
   "display_name": "Python 3",
   "language": "python",
   "name": "python3"
  },
  "language_info": {
   "codemirror_mode": {
    "name": "ipython",
    "version": 3
   },
   "file_extension": ".py",
   "mimetype": "text/x-python",
   "name": "python",
   "nbconvert_exporter": "python",
   "pygments_lexer": "ipython3",
   "version": "3.7.4"
  }
 },
 "nbformat": 4,
 "nbformat_minor": 4
}
