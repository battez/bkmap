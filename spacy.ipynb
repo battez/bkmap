{
 "cells": [
  {
   "cell_type": "code",
   "execution_count": 2,
   "metadata": {},
   "outputs": [
    {
     "name": "stdout",
     "output_type": "stream",
     "text": [
      "['When', 'learning', 'data', 'science', ',', 'you', 'should', \"n't\", 'get', 'discouraged', '!', '\\n', 'Challenges', 'and', 'setbacks', 'are', \"n't\", 'failures', ',', 'they', \"'re\", 'just', 'part', 'of', 'the', 'journey', '.', 'You', \"'ve\", 'got', 'this', '!']\n"
     ]
    }
   ],
   "source": [
    "# Word tokenization\n",
    "from spacy.lang.en import English\n",
    "\n",
    "# Load English tokenizer, tagger, parser, NER and word vectors\n",
    "nlp = English()\n",
    "\n",
    "text = \"\"\"When learning data science, you shouldn't get discouraged!\n",
    "Challenges and setbacks aren't failures, they're just part of the journey. You've got this!\"\"\"\n",
    "\n",
    "#  \"nlp\" Object is used to create documents with linguistic annotations.\n",
    "doc = nlp(text)\n",
    "\n",
    "# Create list of word tokens\n",
    "token_list = []\n",
    "for token in doc:\n",
    "    token_list.append(token.text)\n",
    "print(token_list)\n",
    "\n"
   ]
  },
  {
   "cell_type": "code",
   "execution_count": 3,
   "metadata": {},
   "outputs": [
    {
     "name": "stdout",
     "output_type": "stream",
     "text": [
      "First ten stop words: ['thereupon', 'their', 'with', 'might', 'the', \"'ve\", 'eleven', 'whose', 'whereafter', 'out']\n"
     ]
    }
   ],
   "source": [
    "from spacy.lang.en import stop_words\n",
    "spacy_stopwords = stop_words.STOP_WORDS\n",
    "print('First ten stop words: %s' % list(spacy_stopwords)[:10])"
   ]
  },
  {
   "cell_type": "code",
   "execution_count": 4,
   "metadata": {},
   "outputs": [
    {
     "name": "stdout",
     "output_type": "stream",
     "text": [
      "All DET\n",
      "is AUX\n",
      "well ADJ\n",
      "that DET\n",
      "ends VERB\n",
      "well ADV\n",
      ". PUNCT\n"
     ]
    }
   ],
   "source": [
    "import en_core_web_sm\n",
    "# load en_core_web_sm of English for vocabluary, syntax & entities\n",
    "nlp = en_core_web_sm.load()\n",
    "docs = nlp(u\"All is well that ends well.\")\n",
    "for word in docs:\n",
    "    print(word.text,word.pos_)"
   ]
  },
  {
   "cell_type": "code",
   "execution_count": 5,
   "metadata": {},
   "outputs": [
    {
     "data": {
      "text/plain": [
       "[(New York City, 'GPE', 384),\n",
       " (Tuesday, 'DATE', 391),\n",
       " (At least 285, 'CARDINAL', 397),\n",
       " (September, 'DATE', 391),\n",
       " (Brooklyn, 'GPE', 384),\n",
       " (Williamsburg, 'GPE', 384),\n",
       " (four, 'CARDINAL', 397),\n",
       " (Bill de Blasio, 'PERSON', 380),\n",
       " (Tuesday, 'DATE', 391),\n",
       " (Orthodox Jews, 'PERSON', 380),\n",
       " (6 months old, 'DATE', 391),\n",
       " (up to $1,000, 'MONEY', 394)]"
      ]
     },
     "execution_count": 5,
     "metadata": {},
     "output_type": "execute_result"
    }
   ],
   "source": [
    "from spacy import displacy\n",
    "\n",
    "nytimes= nlp(u\"\"\"New York City on Tuesday declared a public health emergency and ordered mandatory measles vaccinations amid an outbreak, becoming the latest national flash point over refusals to inoculate against dangerous diseases.\n",
    "\n",
    "At least 285 people have contracted measles in the city since September, mostly in Brooklyn’s Williamsburg neighborhood. The order covers four Zip codes there, Mayor Bill de Blasio (D) said Tuesday.\n",
    "\n",
    "The mandate orders all unvaccinated people in the area, including a concentration of Orthodox Jews, to receive inoculations, including for children as young as 6 months old. Anyone who resists could be fined up to $1,000.\"\"\")\n",
    "\n",
    "entities=[(i, i.label_, i.label) for i in nytimes.ents]\n",
    "entities\n",
    "# visual\n",
    "# displacy.render(nytimes, style = \"ent\",jupyter = True)"
   ]
  },
  {
   "cell_type": "code",
   "execution_count": 6,
   "metadata": {},
   "outputs": [
    {
     "name": "stdout",
     "output_type": "stream",
     "text": [
      "Requirement already satisfied: en_core_web_md==2.2.5 from https://github.com/explosion/spacy-models/releases/download/en_core_web_md-2.2.5/en_core_web_md-2.2.5.tar.gz#egg=en_core_web_md==2.2.5 in /home/lukebarker/anaconda3/lib/python3.7/site-packages (2.2.5)\n",
      "Requirement already satisfied: spacy>=2.2.2 in /home/lukebarker/anaconda3/lib/python3.7/site-packages (from en_core_web_md==2.2.5) (2.2.3)\n",
      "Requirement already satisfied: cymem<2.1.0,>=2.0.2 in /home/lukebarker/anaconda3/lib/python3.7/site-packages (from spacy>=2.2.2->en_core_web_md==2.2.5) (2.0.3)\n",
      "Requirement already satisfied: thinc<7.4.0,>=7.3.0 in /home/lukebarker/anaconda3/lib/python3.7/site-packages (from spacy>=2.2.2->en_core_web_md==2.2.5) (7.3.0)\n",
      "Requirement already satisfied: plac<1.2.0,>=0.9.6 in /home/lukebarker/anaconda3/lib/python3.7/site-packages (from spacy>=2.2.2->en_core_web_md==2.2.5) (0.9.6)\n",
      "Requirement already satisfied: preshed<3.1.0,>=3.0.2 in /home/lukebarker/anaconda3/lib/python3.7/site-packages (from spacy>=2.2.2->en_core_web_md==2.2.5) (3.0.2)\n",
      "Requirement already satisfied: srsly<1.1.0,>=0.1.0 in /home/lukebarker/anaconda3/lib/python3.7/site-packages (from spacy>=2.2.2->en_core_web_md==2.2.5) (0.2.0)\n",
      "Requirement already satisfied: murmurhash<1.1.0,>=0.28.0 in /home/lukebarker/anaconda3/lib/python3.7/site-packages (from spacy>=2.2.2->en_core_web_md==2.2.5) (1.0.0)\n",
      "Requirement already satisfied: blis<0.5.0,>=0.4.0 in /home/lukebarker/anaconda3/lib/python3.7/site-packages (from spacy>=2.2.2->en_core_web_md==2.2.5) (0.4.1)\n",
      "Requirement already satisfied: wasabi<1.1.0,>=0.4.0 in /home/lukebarker/anaconda3/lib/python3.7/site-packages (from spacy>=2.2.2->en_core_web_md==2.2.5) (0.4.0)\n",
      "Requirement already satisfied: catalogue<1.1.0,>=0.0.7 in /home/lukebarker/anaconda3/lib/python3.7/site-packages (from spacy>=2.2.2->en_core_web_md==2.2.5) (0.0.8)\n",
      "Requirement already satisfied: setuptools in /home/lukebarker/anaconda3/lib/python3.7/site-packages (from spacy>=2.2.2->en_core_web_md==2.2.5) (41.4.0)\n",
      "Requirement already satisfied: requests<3.0.0,>=2.13.0 in /home/lukebarker/anaconda3/lib/python3.7/site-packages (from spacy>=2.2.2->en_core_web_md==2.2.5) (2.22.0)\n",
      "Requirement already satisfied: numpy>=1.15.0 in /home/lukebarker/anaconda3/lib/python3.7/site-packages (from spacy>=2.2.2->en_core_web_md==2.2.5) (1.17.2)\n",
      "Requirement already satisfied: tqdm<5.0.0,>=4.10.0 in /home/lukebarker/anaconda3/lib/python3.7/site-packages (from thinc<7.4.0,>=7.3.0->spacy>=2.2.2->en_core_web_md==2.2.5) (4.36.1)\n",
      "Requirement already satisfied: importlib-metadata>=0.20; python_version < \"3.8\" in /home/lukebarker/anaconda3/lib/python3.7/site-packages (from catalogue<1.1.0,>=0.0.7->spacy>=2.2.2->en_core_web_md==2.2.5) (0.23)\n",
      "Requirement already satisfied: certifi>=2017.4.17 in /home/lukebarker/anaconda3/lib/python3.7/site-packages (from requests<3.0.0,>=2.13.0->spacy>=2.2.2->en_core_web_md==2.2.5) (2019.9.11)\n",
      "Requirement already satisfied: chardet<3.1.0,>=3.0.2 in /home/lukebarker/anaconda3/lib/python3.7/site-packages (from requests<3.0.0,>=2.13.0->spacy>=2.2.2->en_core_web_md==2.2.5) (3.0.4)\n",
      "Requirement already satisfied: idna<2.9,>=2.5 in /home/lukebarker/anaconda3/lib/python3.7/site-packages (from requests<3.0.0,>=2.13.0->spacy>=2.2.2->en_core_web_md==2.2.5) (2.8)\n",
      "Requirement already satisfied: urllib3!=1.25.0,!=1.25.1,<1.26,>=1.21.1 in /home/lukebarker/anaconda3/lib/python3.7/site-packages (from requests<3.0.0,>=2.13.0->spacy>=2.2.2->en_core_web_md==2.2.5) (1.24.2)\n",
      "Requirement already satisfied: zipp>=0.5 in /home/lukebarker/anaconda3/lib/python3.7/site-packages (from importlib-metadata>=0.20; python_version < \"3.8\"->catalogue<1.1.0,>=0.0.7->spacy>=2.2.2->en_core_web_md==2.2.5) (0.6.0)\n",
      "Requirement already satisfied: more-itertools in /home/lukebarker/anaconda3/lib/python3.7/site-packages (from zipp>=0.5->importlib-metadata>=0.20; python_version < \"3.8\"->catalogue<1.1.0,>=0.0.7->spacy>=2.2.2->en_core_web_md==2.2.5) (7.2.0)\n",
      "\u001b[38;5;2m✔ Download and installation successful\u001b[0m\n",
      "You can now load the model via spacy.load('en_core_web_md')\n"
     ]
    }
   ],
   "source": [
    "!python -m spacy download en_core_web_md\n",
    "import en_core_web_md\n",
    "\n"
   ]
  },
  {
   "cell_type": "code",
   "execution_count": 23,
   "metadata": {},
   "outputs": [
    {
     "name": "stdout",
     "output_type": "stream",
     "text": [
      "total tokens 541226\n",
      "[(Gutenberg eBook, 'PERSON', 380), (The Secret Agent, 'WORK_OF_ART', 388), (Joseph Conrad, 'PERSON', 380), (eBook, 'ORG', 383), (eBook, 'ORG', 383), (The Secret Agent\n",
      "       , 'WORK_OF_ART', 388), (Joseph Conrad\n",
      "\n",
      "\n",
      "\n",
      ", 'PERSON', 380), (December 24, 2010, 'DATE', 391), (974, 'MONEY', 394), (First, 'ORDINAL', 396), (June 28, 1997, 'DATE', 391), (English, 'LANGUAGE', 389), (UTF-8, 'GPE', 384), (Transcribed, 'PERSON', 380), (1907, 'DATE', 391), (Methuen & Co, 'ORG', 383), (David Price, 'PERSON', 380), (AGENT, 'ORG', 383), (SIMPLE, 'ORG', 383), (JOSEPH CONRAD, 'PERSON', 380)]\n",
      "PLACES {'wheezy', 'this karl yundt', 'somewhere', 'victoria', 'inspector heat', 'drunks', 'thou', 'grit', 'observatory', 'mrs verloc', 'murder', 'karl yundt', 'went', 'these f. p.', 'an m. p.', 'greenwich park', 'moser', 'mr verloc’s', 'whitehall', 'lewisham', 'states', 'england', 'mumbled', 'transcribed', 'gloomy dampness', 'gutenberg ebook', 'dingy white', 'winnie', 'ill', 'green park', 'utf-8', 'paris', 'inch', 'the f. p.', 'wherein', 'embassy', 'stevie', 'heat', 'america', 'lausanne', 'alfred wallace', 'apostle', 'girls', 'stott-wartenheim', 'strand', 'alexander ossipon', 'verloc', 'logical', 'spectre', 'artists', 'headlong', 'hygiene', 'somebody', 'f. p.', 'fertile', 'street lodge', 'india', 'aloud', 'commissioners', 'st stephen’s', 'mr vladimir’s', 'the winnie of the belgravian', 'ard', 'brussels', 'madness', 'latorre', 'nevertheless', 'verlocs', 'vladimir', 'stephen', 'outward deference', 'ethelred', 'joseph conrad', 'china bowl', 'caligula', 'sicily', 'this mr vladimir', 'winn', 'adolf', 'david price', 'ossipon', 'tottenham', 'greenwich', 'london', 'mr\\nvladimir', 'm. p.', 'milan', 'bronze', 'dusky alley', 'marienbad', 'bush', 'knightsbridge', 'mr verloc’s feet', 'inspector', 'mr vladimir', 'mine', 'royal highnesses', 'mr verloc', 'the great republic', 'farther', 'scotland', 'winnie verloc', 'mullins', 'shedding', 'leaning', 'belgravia', 'south london', 'bell', 'squibs', 'france', 'flagstones', 'dark', 'this f. p.', 'run', 'ergo', 'catherine wheels', 'foggy', 'rang', 'yundt', 'pray', 'don quixote', 'dover', 'cheeseman', 'karl', 'cherchez', 'phew', 'bomb'}\n",
      "Counter({'PERSON': 460, 'CARDINAL': 166, 'ORG': 141, 'GPE': 89, 'DATE': 84, 'TIME': 74, 'ORDINAL': 63, 'WORK_OF_ART': 59, 'NORP': 54, 'LOC': 41, 'PRODUCT': 39, 'FAC': 20, 'QUANTITY': 12, 'LANGUAGE': 8, 'LAW': 2, 'MONEY': 1, 'EVENT': 1})\n",
      "PERSON People, including fictional\n",
      "WORK_OF_ART Titles of books, songs, etc.\n",
      "ORG Companies, agencies, institutions, etc.\n",
      "DATE Absolute or relative dates or periods\n",
      "MONEY Monetary values, including unit\n",
      "ORDINAL \"first\", \"second\", etc.\n",
      "LANGUAGE Any named language\n",
      "GPE Countries, cities, states\n",
      "CARDINAL Numerals that do not fall under another type\n",
      "PRODUCT Objects, vehicles, foods, etc. (not services)\n",
      "NORP Nationalities or religious or political groups\n",
      "TIME Times smaller than a day\n",
      "LOC Non-GPE locations, mountain ranges, bodies of water\n",
      "FAC Buildings, airports, highways, bridges, etc.\n",
      "LAW Named documents made into laws.\n",
      "EVENT Named hurricanes, battles, wars, sports events, etc.\n",
      "QUANTITY Measurements, as of weight or distance\n"
     ]
    }
   ],
   "source": [
    "import os\n",
    "import pandas as pd\n",
    "from collections import Counter\n",
    "from spacy import explain\n",
    "# Uncomment below to use the medium size model, for production (possibly?)\n",
    "# nlp = en_core_web_md.load()\n",
    "nlp = en_core_web_sm.load()\n",
    "\n",
    "# load the text or book in spacy.tokens.doc.Doc object\n",
    "doc = open(os.getcwd() +'/datasets/secretagent.txt').read()\n",
    "\n",
    "# use small sample\n",
    "sentences = nlp(doc)\n",
    "print('total tokens', len(doc))\n",
    "\n",
    "entities=[(i, i.label_, i.label) for i in sentences.ents]\n",
    "\n",
    "#print(entities[:20])\n",
    "\n",
    "\n"
   ]
  },
  {
   "cell_type": "code",
   "execution_count": 27,
   "metadata": {},
   "outputs": [
    {
     "name": "stdout",
     "output_type": "stream",
     "text": [
      "PLACES ['wheezy', 'this karl yundt', 'somewhere', 'victoria', 'inspector heat', 'drunks', 'thou', 'grit', 'observatory', 'mrs verloc', 'murder', 'karl yundt', 'went', 'these f. p.', 'an m. p.', 'greenwich park', 'moser', 'mr verloc’s', 'whitehall', 'lewisham', 'states', 'england', 'mumbled', 'transcribed', 'gloomy dampness', 'gutenberg ebook', 'dingy white', 'winnie', 'ill', 'green park', 'utf-8', 'paris', 'inch', 'the f. p.', 'wherein', 'embassy', 'stevie', 'heat', 'america', 'lausanne', 'alfred wallace', 'apostle', 'girls', 'stott-wartenheim', 'strand', 'alexander ossipon', 'verloc', 'logical', 'spectre', 'artists', 'headlong', 'hygiene', 'somebody', 'f. p.', 'fertile', 'street lodge', 'india', 'aloud', 'commissioners', 'st stephen’s', 'mr vladimir’s', 'the winnie of the belgravian', 'ard', 'brussels', 'madness', 'latorre', 'nevertheless', 'verlocs', 'vladimir', 'stephen', 'outward deference', 'ethelred', 'joseph conrad', 'china bowl', 'caligula', 'sicily', 'this mr vladimir', 'winn', 'adolf', 'david price', 'ossipon', 'tottenham', 'greenwich', 'london', 'mr\\nvladimir', 'm. p.', 'milan', 'bronze', 'dusky alley', 'marienbad', 'bush', 'knightsbridge', 'mr verloc’s feet', 'inspector', 'mr vladimir', 'mine', 'royal highnesses', 'mr verloc', 'the great republic', 'farther', 'scotland', 'winnie verloc', 'mullins', 'shedding', 'leaning', 'belgravia', 'south london', 'bell', 'squibs', 'france', 'flagstones', 'dark', 'this f. p.', 'run', 'ergo', 'catherine wheels', 'foggy', 'rang', 'yundt', 'pray', 'don quixote', 'dover', 'cheeseman', 'karl', 'cherchez', 'phew', 'bomb']\n",
      "PERSON People, including fictional\n",
      "WORK_OF_ART Titles of books, songs, etc.\n",
      "ORG Companies, agencies, institutions, etc.\n",
      "DATE Absolute or relative dates or periods\n",
      "MONEY Monetary values, including unit\n",
      "ORDINAL \"first\", \"second\", etc.\n",
      "LANGUAGE Any named language\n",
      "GPE Countries, cities, states\n",
      "CARDINAL Numerals that do not fall under another type\n",
      "PRODUCT Objects, vehicles, foods, etc. (not services)\n",
      "NORP Nationalities or religious or political groups\n",
      "TIME Times smaller than a day\n",
      "LOC Non-GPE locations, mountain ranges, bodies of water\n",
      "FAC Buildings, airports, highways, bridges, etc.\n",
      "LAW Named documents made into laws.\n",
      "EVENT Named hurricanes, battles, wars, sports events, etc.\n",
      "QUANTITY Measurements, as of weight or distance\n"
     ]
    }
   ],
   "source": [
    "# very crude list of possible placenames\n",
    "places = list(map(lambda x:x[0], filter(lambda x: (x[1] in ['GPE','PERSON']), entities)))\n",
    "\n",
    "## normalise these strings\n",
    "places = list(set(map(lambda x:x.orth_.strip().lower(), places)))\n",
    "\n",
    "labels = [x.label_ for x in sentences.ents]\n",
    "#print(Counter(labels))\n",
    "\n",
    "# useful to refer to for the various labels of entities\n",
    "for x in Counter(labels).keys():\n",
    "    print(x, explain(x))"
   ]
  },
  {
   "cell_type": "code",
   "execution_count": 74,
   "metadata": {},
   "outputs": [
    {
     "data": {
      "text/html": [
       "<div>\n",
       "<style scoped>\n",
       "    .dataframe tbody tr th:only-of-type {\n",
       "        vertical-align: middle;\n",
       "    }\n",
       "\n",
       "    .dataframe tbody tr th {\n",
       "        vertical-align: top;\n",
       "    }\n",
       "\n",
       "    .dataframe thead th {\n",
       "        text-align: right;\n",
       "    }\n",
       "</style>\n",
       "<table border=\"1\" class=\"dataframe\">\n",
       "  <thead>\n",
       "    <tr style=\"text-align: right;\">\n",
       "      <th></th>\n",
       "      <th>Place Name</th>\n",
       "      <th>Coordinates</th>\n",
       "      <th>Original Text</th>\n",
       "    </tr>\n",
       "  </thead>\n",
       "  <tbody>\n",
       "    <tr>\n",
       "      <td>0</td>\n",
       "      <td>Greenwich Park, East Greenwich, Royal Borough ...</td>\n",
       "      <td>(51.47722835, 0.00092473393014189)</td>\n",
       "      <td>greenwich park</td>\n",
       "    </tr>\n",
       "    <tr>\n",
       "      <td>1</td>\n",
       "      <td>Whitehall, City of Westminster, London, Greate...</td>\n",
       "      <td>(51.5023278, -0.1260826)</td>\n",
       "      <td>whitehall</td>\n",
       "    </tr>\n",
       "    <tr>\n",
       "      <td>2</td>\n",
       "      <td>Lewisham, London, Greater London, England, SE1...</td>\n",
       "      <td>(51.4624325, -0.0101331)</td>\n",
       "      <td>lewisham</td>\n",
       "    </tr>\n",
       "    <tr>\n",
       "      <td>3</td>\n",
       "      <td>Green Park, Piccadilly, St. James's, Mayfair, ...</td>\n",
       "      <td>(51.5066192, -0.1429113)</td>\n",
       "      <td>green park</td>\n",
       "    </tr>\n",
       "    <tr>\n",
       "      <td>4</td>\n",
       "      <td>Kids Aloud Day Care Nursery, St Mary's Road, T...</td>\n",
       "      <td>(51.55991915, -0.00814700415048746)</td>\n",
       "      <td>aloud</td>\n",
       "    </tr>\n",
       "    <tr>\n",
       "      <td>5</td>\n",
       "      <td>Ethelred Estate, Vauxhall, London Borough of L...</td>\n",
       "      <td>(51.49205105, -0.114792931426394)</td>\n",
       "      <td>ethelred</td>\n",
       "    </tr>\n",
       "    <tr>\n",
       "      <td>6</td>\n",
       "      <td>Tottenham, London Borough of Haringey, London,...</td>\n",
       "      <td>(51.5976955, -0.0672892)</td>\n",
       "      <td>tottenham</td>\n",
       "    </tr>\n",
       "    <tr>\n",
       "      <td>7</td>\n",
       "      <td>Greenwich, London, Greater London, England, SE...</td>\n",
       "      <td>(51.4820845, -0.0045417)</td>\n",
       "      <td>greenwich</td>\n",
       "    </tr>\n",
       "    <tr>\n",
       "      <td>8</td>\n",
       "      <td>London, Greater London, England, SW1A 2DX, Uni...</td>\n",
       "      <td>(51.5073219, -0.1276474)</td>\n",
       "      <td>london</td>\n",
       "    </tr>\n",
       "    <tr>\n",
       "      <td>9</td>\n",
       "      <td>Knightsbridge, City of Westminster, London, Gr...</td>\n",
       "      <td>(51.5008444, -0.166965)</td>\n",
       "      <td>knightsbridge</td>\n",
       "    </tr>\n",
       "  </tbody>\n",
       "</table>\n",
       "</div>"
      ],
      "text/plain": [
       "                                          Place Name  \\\n",
       "0  Greenwich Park, East Greenwich, Royal Borough ...   \n",
       "1  Whitehall, City of Westminster, London, Greate...   \n",
       "2  Lewisham, London, Greater London, England, SE1...   \n",
       "3  Green Park, Piccadilly, St. James's, Mayfair, ...   \n",
       "4  Kids Aloud Day Care Nursery, St Mary's Road, T...   \n",
       "5  Ethelred Estate, Vauxhall, London Borough of L...   \n",
       "6  Tottenham, London Borough of Haringey, London,...   \n",
       "7  Greenwich, London, Greater London, England, SE...   \n",
       "8  London, Greater London, England, SW1A 2DX, Uni...   \n",
       "9  Knightsbridge, City of Westminster, London, Gr...   \n",
       "\n",
       "                           Coordinates   Original Text  \n",
       "0   (51.47722835, 0.00092473393014189)  greenwich park  \n",
       "1             (51.5023278, -0.1260826)       whitehall  \n",
       "2             (51.4624325, -0.0101331)        lewisham  \n",
       "3             (51.5066192, -0.1429113)      green park  \n",
       "4  (51.55991915, -0.00814700415048746)           aloud  \n",
       "5    (51.49205105, -0.114792931426394)        ethelred  \n",
       "6             (51.5976955, -0.0672892)       tottenham  \n",
       "7             (51.4820845, -0.0045417)       greenwich  \n",
       "8             (51.5073219, -0.1276474)          london  \n",
       "9              (51.5008444, -0.166965)   knightsbridge  "
      ]
     },
     "execution_count": 74,
     "metadata": {},
     "output_type": "execute_result"
    }
   ],
   "source": [
    "# lookup places and plot if they exist. Keep within bounding box of europe somehow.\n",
    "from geopy.geocoders import Nominatim\n",
    "from geopy.exc import GeocoderTimedOut\n",
    "import time\n",
    "from pprint import pprint\n",
    "'''\n",
    "rubric:\n",
    "if an individual search takes longer than n seconds,\n",
    "it’s not really a city name, and the script will thus \n",
    "weed out non-names from the final map.\n",
    "'''\n",
    "n_wait=2\n",
    "geolocator = Nominatim(timeout=n_wait, user_agent=\"book_location_resolver\") # OSM service\n",
    " \n",
    "lat_lon = []\n",
    "valid = []\n",
    "\n",
    "bounds_uk = [-10.8544921875, 49.82380908513249,2.021484375,59.478568831926395] # UK\n",
    "bounds_ukse = [-10.8544921875, 49.82380908513249,2.021484375,59.478568831926395] # UK\n",
    "bounds_g_london = [-0.489,51.28,0.236,51.686]\n",
    "for idx, original_text in enumerate(places[:1000]): \n",
    "    # do not hammer the service:\n",
    "    if ( (idx > 0) and (0 == (idx % 10)) ): \n",
    "        # delay\n",
    "        time.sleep(12)\n",
    "    \n",
    "    try:\n",
    "        # TODO: can in fact in API use viewbox and bounded=1, viewbox=<x1>,<y1>,<x2>,<y2>\n",
    "        location = geolocator.geocode(original_text)        \n",
    "        \n",
    "        if location:\n",
    "            if (bounds_g_london[1] < location.latitude < bounds_g_london[3]) and (bounds_g_london[0] < location.longitude < bounds_g_london[2]): \n",
    "                # original_text also added\n",
    "                #location.setattr('raw') = original_text\n",
    "                \n",
    "                lat_lon.append(location)\n",
    "                valid.append(original_text)\n",
    "                #print(lat_lon)\n",
    "                # print out those locations that are within our bounding box\n",
    "                #print(location.latitude, location.longitude)\n",
    "                #print(dir(location))\n",
    "                #print(location.raw)\n",
    "                \n",
    "    except GeocoderTimedOut as e:\n",
    "        print(\"Error: geocode failed on input %s with message %s\"% (original_text, e))\n",
    "\n",
    "\n",
    "df = pd.DataFrame(lat_lon, columns=['Place Name', 'Coordinates'])\n",
    "df['Original Text'] = valid # add a column of our valid original text queries for the geocoder\n",
    "file_name = 'retrieved_locations.csv'\n",
    "df.to_csv(file_name, sep='\\t', encoding='utf-8', index=False)\n",
    "df.head(50)\n"
   ]
  },
  {
   "cell_type": "code",
   "execution_count": 81,
   "metadata": {},
   "outputs": [
    {
     "data": {
      "text/html": [
       "<div style=\"width:100%;\"><div style=\"position:relative;width:100%;height:0;padding-bottom:60%;\"><iframe src=\"data:text/html;charset=utf-8;base64,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\" style=\"position:absolute;width:100%;height:100%;left:0;top:0;border:none !important;\" allowfullscreen webkitallowfullscreen mozallowfullscreen></iframe></div></div>"
      ],
      "text/plain": [
       "<folium.folium.Map at 0x7825ef212cd0>"
      ]
     },
     "execution_count": 81,
     "metadata": {},
     "output_type": "execute_result"
    }
   ],
   "source": [
    "import folium\n",
    "import geopandas as gpd\n",
    "\n",
    "def generateBaseMap(default_location=[51.5, 0], default_zoom_start=10):\n",
    "    base_map = folium.Map(location=default_location, control_scale=True, zoom_start=default_zoom_start)\n",
    "    return base_map\n",
    "\n",
    "def add_marker(place, coordinates, text=\"\"):\n",
    "    ''' add a location marker to a folium map \n",
    "    '''\n",
    "    folium.Marker(location=list(coordinates), popup=place, icon=folium.DivIcon(\n",
    "        icon_size=(150,36),\n",
    "        icon_anchor=(7,20),\n",
    "        html='<div style=\"font-size: 12pt; color : #222;text-decoration:underline\">'+ text +'</div>',\n",
    "        )).add_to(base_map)\n",
    "    \n",
    "base_map = generateBaseMap()\n",
    "\n",
    "result = [add_marker(x, y, z) for x, y, z in zip(df['Place Name'], df['Coordinates'], df['Original Text'])]\n",
    "base_map # display the map"
   ]
  }
 ],
 "metadata": {
  "kernelspec": {
   "display_name": "Python 3",
   "language": "python",
   "name": "python3"
  },
  "language_info": {
   "codemirror_mode": {
    "name": "ipython",
    "version": 3
   },
   "file_extension": ".py",
   "mimetype": "text/x-python",
   "name": "python",
   "nbconvert_exporter": "python",
   "pygments_lexer": "ipython3",
   "version": "3.7.4"
  }
 },
 "nbformat": 4,
 "nbformat_minor": 4
}
